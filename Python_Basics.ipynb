{
  "nbformat": 4,
  "nbformat_minor": 0,
  "metadata": {
    "colab": {
      "name": "Python_Basics.ipynb",
      "provenance": [],
      "collapsed_sections": [],
      "include_colab_link": true
    },
    "kernelspec": {
      "name": "python3",
      "display_name": "Python 3"
    },
    "language_info": {
      "name": "python"
    }
  },
  "cells": [
    {
      "cell_type": "markdown",
      "metadata": {
        "id": "view-in-github",
        "colab_type": "text"
      },
      "source": [
        "<a href=\"https://colab.research.google.com/github/J-RojasL/LCGEJ_Python/blob/master/Python_Basics.ipynb\" target=\"_parent\"><img src=\"https://colab.research.google.com/assets/colab-badge.svg\" alt=\"Open In Colab\"/></a>"
      ]
    },
    {
      "cell_type": "code",
      "metadata": {
        "colab": {
          "base_uri": "https://localhost:8080/"
        },
        "id": "CJk6WqpatoOP",
        "outputId": "9d4e09c5-e58e-4f51-ead3-e4873617a851"
      },
      "source": [
        "#Declarar variable\n",
        "x=3\n",
        "#Imprimir variable\n",
        "print (x)"
      ],
      "execution_count": null,
      "outputs": [
        {
          "output_type": "stream",
          "text": [
            "3\n"
          ],
          "name": "stdout"
        }
      ]
    },
    {
      "cell_type": "code",
      "metadata": {
        "id": "szpHQRWNvlMQ"
      },
      "source": [
        "print (x+3)   #Suma\n",
        "print (x-3)   #Resta\n",
        "print (x*3)   #Multiplicacion\n",
        "print (x**3)  #Potencia"
      ],
      "execution_count": null,
      "outputs": []
    },
    {
      "cell_type": "code",
      "metadata": {
        "id": "reyRL1l6u7Eb"
      },
      "source": [
        "#Modificar la variable usando valores anteriores\n",
        "x+=1  #suma\n",
        "x*=2  #Multiplicacion"
      ],
      "execution_count": null,
      "outputs": []
    },
    {
      "cell_type": "code",
      "metadata": {
        "colab": {
          "base_uri": "https://localhost:8080/"
        },
        "id": "CxLHDWy5v50a",
        "outputId": "9dbd2a4d-8ad3-439c-b04b-108f1ecdf2cc"
      },
      "source": [
        "#Asignacion de variable\n",
        "y=2.5\n",
        "print( type( y ) )  #Impresion del tipo de variable de y\n",
        "\n",
        "#Concatenar impresion\n",
        "print( y, y+1, y*2, y**2)"
      ],
      "execution_count": null,
      "outputs": [
        {
          "output_type": "stream",
          "text": [
            "<class 'float'>\n",
            "2.5 3.5 5.0 6.25\n"
          ],
          "name": "stdout"
        }
      ]
    },
    {
      "cell_type": "code",
      "metadata": {
        "colab": {
          "base_uri": "https://localhost:8080/"
        },
        "id": "_VlWGNqewOZg",
        "outputId": "07ce7e72-0017-48ed-e44d-c76b29a28647"
      },
      "source": [
        "#Demostracion de valores booleanos\n",
        "t,f= True, False    #Declaracion de las variables booleanas\n",
        "print( type(t))\n",
        "print( type(f))   #Impresion a pantalla del tipo de variable\n",
        "print(t,f)"
      ],
      "execution_count": null,
      "outputs": [
        {
          "output_type": "stream",
          "text": [
            "<class 'bool'>\n",
            "<class 'bool'>\n",
            "True False\n"
          ],
          "name": "stdout"
        }
      ]
    },
    {
      "cell_type": "markdown",
      "metadata": {
        "id": "iFxZSHFFwwd1"
      },
      "source": [
        "###Operadores Lógicos"
      ]
    },
    {
      "cell_type": "code",
      "metadata": {
        "id": "Hoe_fjVcwnaF"
      },
      "source": [
        "print( t and f )   #&\n",
        "print( t or f )    #|\n",
        "print( not t )    #!\n",
        "print( t != f )    # != xor"
      ],
      "execution_count": null,
      "outputs": []
    },
    {
      "cell_type": "markdown",
      "metadata": {
        "id": "KAFuVcy0xePY"
      },
      "source": [
        "###Cadenas y métodos"
      ]
    },
    {
      "cell_type": "code",
      "metadata": {
        "colab": {
          "base_uri": "https://localhost:8080/"
        },
        "id": "leisFKi4xg07",
        "outputId": "795c0124-8906-409b-d42e-d95982604756"
      },
      "source": [
        "s=\"hello\"\n",
        "\n",
        "print( s.capitalize())    #Trnasforma el primer caracter de una cadena a mayúsculas\n",
        "print( s.upper())   #Cambia todos los caracteres a mayúsculas\n",
        "print( s.rjust(9))    #Identacion/Justificacion de la cadena\n",
        "print( s.center(7))   #Centra la cadena\n",
        "print( s.replace('l', '(ell)'))   #Modifica la cadena de texto\n",
        "print( ' world'.strip())    #quita espacios"
      ],
      "execution_count": null,
      "outputs": [
        {
          "output_type": "stream",
          "text": [
            "Hello\n",
            "HELLO\n",
            "    hello\n",
            " hello \n",
            "he(ell)(ell)o\n",
            "world\n"
          ],
          "name": "stdout"
        }
      ]
    },
    {
      "cell_type": "markdown",
      "metadata": {
        "id": "UkQvC1J_yYBA"
      },
      "source": [
        "###Listas"
      ]
    },
    {
      "cell_type": "code",
      "metadata": {
        "id": "09-O7JbuxnrN"
      },
      "source": [
        "xs= [0,1,2,3]     #Declaration of a 4 element list\n",
        "print(xs,xs[2])   #Prints the whole list and then the 3rd element of the list\n",
        "print(xs[-1])     #Prints the last element of list\n",
        "\n",
        "#Replace\n",
        "xs[2]='fox2'\n",
        "xs.append('bar')    #add element at end of list\n",
        "x=xs.pop()    #deletes last element of list and assigns to x\n",
        "print(xs)     #prints whole list\n",
        "\n",
        "#Ranges\n",
        "nums= list( range( 5 ))   #Saves values from index 0 to 4 \n",
        "print( nums )\n",
        "print( nums[ 2:4 ] )    #print from index 2 to 4"
      ],
      "execution_count": null,
      "outputs": []
    },
    {
      "cell_type": "markdown",
      "metadata": {
        "id": "fikyg7hTy8J6"
      },
      "source": [
        "####Text lists are also possible"
      ]
    },
    {
      "cell_type": "code",
      "metadata": {
        "colab": {
          "base_uri": "https://localhost:8080/"
        },
        "id": "fc1bkkyR0RyM",
        "outputId": "22f8fcb6-4bf7-4c7b-86e4-a3cf1c73aac4"
      },
      "source": [
        "animales= ['gatos', 'perros', 'changos']  #3 element list with no ordered indexes\n",
        "for animal in animales:   #will run n variable animal up to the max index in animales\n",
        "    print( animal )   #prints every individual value\n",
        "\n",
        "  #Indexing\n",
        "for idx,animal in enumerate( animales ):    #Creates counter variable and another to take the values of each element\n",
        "  print('#{}: {}'.format( idx +1, animal))    #prints with wild card format\n",
        "\n",
        "nums= [0,1,2,3,4]   #Creation of defined list\n",
        "squares=[]    #creates empty list with no defined spaces\n",
        "for x in nums:\n",
        "  squares.append( x**2 )    #format to add elements on a previously undeclared space\n",
        "print( squares)\n",
        "\n",
        "#List comprehension\n",
        "nums= [0,1,2,3,4]\n",
        "squares = [x**2 for x in nums]    #much faster way of assigning spaces in a list\n",
        "print( squares )"
      ],
      "execution_count": null,
      "outputs": [
        {
          "output_type": "stream",
          "text": [
            "gatos\n",
            "perros\n",
            "changos\n",
            "#1: gatos\n",
            "#2: perros\n",
            "#3: changos\n",
            "[0, 1, 4, 9, 16]\n",
            "[0, 1, 4, 9, 16]\n"
          ],
          "name": "stdout"
        }
      ]
    },
    {
      "cell_type": "markdown",
      "metadata": {
        "id": "Ornvwwk33PEd"
      },
      "source": [
        "####Conditional list comprehension"
      ]
    },
    {
      "cell_type": "code",
      "metadata": {
        "id": "6Vfm9Sjp3LYU"
      },
      "source": [
        "nums=[0,1,2,3,4]\n",
        "even_squares = [x **2 for x in nums if x %2 == 0]   #List values only if they approve the condition\n",
        "print( even_squares )"
      ],
      "execution_count": null,
      "outputs": []
    },
    {
      "cell_type": "markdown",
      "metadata": {
        "id": "TsgQZBlQ3yET"
      },
      "source": [
        "#### Dictionary"
      ]
    },
    {
      "cell_type": "code",
      "metadata": {
        "colab": {
          "base_uri": "https://localhost:8080/"
        },
        "id": "cusYTh6b34O5",
        "outputId": "f0aee494-dcea-4d40-e079-ed383a5aeaf9"
      },
      "source": [
        "d= {'gato': 'arena', 'perro':'parque'}    #Creation of dictionary in format 'key': 'elements',...\n",
        "print( d['gato'] )    #will return values corresponding to the chosen key\n",
        "print('gato' in d )   #adding \"in d\" will return a boolean answer\n",
        "\n",
        "#Ading values\n",
        "d['pez'] = 'agua'   #to add a new element, it must have both key and components\n",
        "print(d['pez'])"
      ],
      "execution_count": null,
      "outputs": [
        {
          "output_type": "stream",
          "text": [
            "arena\n",
            "True\n",
            "agua\n"
          ],
          "name": "stdout"
        }
      ]
    },
    {
      "cell_type": "code",
      "metadata": {
        "id": "ujqzR2Ud4J9t"
      },
      "source": [
        "print(d.get('chango', 'N/A'))   #Checking if element exists without producing an error if unexistent\n",
        "\n",
        "del d['pez']    #Deleting element\n",
        "print( d.get('pez', 'N/A'))"
      ],
      "execution_count": null,
      "outputs": []
    },
    {
      "cell_type": "markdown",
      "metadata": {
        "id": "sdv5VNHJ6EcO"
      },
      "source": [
        "####Dictionary comprehension"
      ]
    },
    {
      "cell_type": "code",
      "metadata": {
        "colab": {
          "base_uri": "https://localhost:8080/"
        },
        "id": "fDSxNAWd6G68",
        "outputId": "94e6c1fd-efc6-423b-fdcd-a03cbd36d559"
      },
      "source": [
        "nums= [0,1,2,3,4]\n",
        "pares_a_cuadrados= {x: x**2 for x in nums if x % 2== 0} #a conditional dictionary comprehension is used here.\n",
        "print( pares_a_cuadrados)"
      ],
      "execution_count": null,
      "outputs": [
        {
          "output_type": "stream",
          "text": [
            "{0: 0, 2: 4, 4: 16}\n"
          ],
          "name": "stdout"
        }
      ]
    },
    {
      "cell_type": "markdown",
      "metadata": {
        "id": "WPK0EhvT6a28"
      },
      "source": [
        "####Sets ( Diccionario de puras llaves)"
      ]
    },
    {
      "cell_type": "code",
      "metadata": {
        "id": "bzQtvHIu6Ti2",
        "colab": {
          "base_uri": "https://localhost:8080/"
        },
        "outputId": "e8020c0f-b505-4e36-f518-0325e2cc0e36"
      },
      "source": [
        "animales={'gato', 'perro', 'pez'}   #creation of set\n",
        "animales.add('pez')   #adds new element to set\n",
        "print( 'pez' in animales)   \n",
        "print( len(animales) )    #returns the length of set \n",
        "\n",
        "animales.add('gato')      #adds element\n",
        "animales.remove('gato')   #removes element\n",
        "\n"
      ],
      "execution_count": null,
      "outputs": [
        {
          "output_type": "stream",
          "text": [
            "True\n",
            "3\n"
          ],
          "name": "stdout"
        }
      ]
    },
    {
      "cell_type": "markdown",
      "metadata": {
        "id": "1_40Bb3r6txi"
      },
      "source": [
        "####Loops"
      ]
    },
    {
      "cell_type": "code",
      "metadata": {
        "colab": {
          "base_uri": "https://localhost:8080/"
        },
        "id": "yg8KBSNj6yXB",
        "outputId": "31f29459-0490-458f-ac85-c9aedd1e3c82"
      },
      "source": [
        "animales={'gato', 'perro', 'pez'}\n",
        "for idx, animal in enumerate(animales):\n",
        "    print('#{}: {}'.format( idx + 1, animal ))\n",
        "\n",
        "#Set Comprehension\n",
        "from math import sqrt   #import the function square root\n",
        "print( { int(sqrt(x)) ) for x in range( 30) } )   #better way of modifying our set"
      ],
      "execution_count": null,
      "outputs": [
        {
          "output_type": "stream",
          "text": [
            "#1: pez\n",
            "#2: perro\n",
            "#3: gato\n"
          ],
          "name": "stdout"
        }
      ]
    },
    {
      "cell_type": "markdown",
      "metadata": {
        "id": "x4RfENBJ8ZBQ"
      },
      "source": [
        "###Tuples \n",
        "#####(Non changeable)"
      ]
    },
    {
      "cell_type": "code",
      "metadata": {
        "id": "-PMKx66h7gLS"
      },
      "source": [
        "{ (x, x+1): x for x in range(10) }    #Create a dictionary with tuple keys with list comprehension\n",
        "t= (5,6)    \n",
        "print( type(t) )    #returns variable type of tuple\n",
        "print( d[t] )     #print tuple\n",
        "print( d[(1,2)] )   #print defined values of tuple"
      ],
      "execution_count": null,
      "outputs": []
    },
    {
      "cell_type": "markdown",
      "metadata": {
        "id": "tVpqMFzP9jRm"
      },
      "source": [
        "###Declaring Functions"
      ]
    },
    {
      "cell_type": "code",
      "metadata": {
        "colab": {
          "base_uri": "https://localhost:8080/"
        },
        "id": "v_AHw0GX9mwJ",
        "outputId": "a8aa9669-3ee1-42f2-8b37-3f99cf28e4ef"
      },
      "source": [
        "def sign(x):      #our function is named sign\n",
        "    if x > 0:\n",
        "        return 'positive'   #each return will finish function if condition approved \n",
        "    elif x < 0:\n",
        "        return 'negative'\n",
        "    else:\n",
        "        return 'zero'\n",
        "\n",
        "for x in [-1, 0, 1]:\n",
        "    print(sign(x))    #calls and then prints return value of function\n"
      ],
      "execution_count": null,
      "outputs": [
        {
          "output_type": "stream",
          "text": [
            "negative\n",
            "zero\n",
            "positive\n"
          ],
          "name": "stdout"
        }
      ]
    },
    {
      "cell_type": "code",
      "metadata": {
        "colab": {
          "base_uri": "https://localhost:8080/"
        },
        "id": "9wxeT3JU-mKS",
        "outputId": "1214dc01-8689-447f-ef12-55ffc654c763"
      },
      "source": [
        "def hello(name, loud=False):    #function will be named hello, loud parameter will be filled with a default value false if not included\n",
        "  if loud:\n",
        "    print('HELLO, {}'.format(name.upper()))   #Name will be printed in caps if true\n",
        "  else:\n",
        "      print('Hello, {}!'.format(name))\n",
        "\n",
        "hello('Bob')\n",
        "hello('Fred', loud=True)"
      ],
      "execution_count": null,
      "outputs": [
        {
          "output_type": "stream",
          "text": [
            "Hello, Bob!\n",
            "HELLO, FRED\n"
          ],
          "name": "stdout"
        }
      ]
    },
    {
      "cell_type": "markdown",
      "metadata": {
        "id": "l6SjETsq_j4a"
      },
      "source": [
        "###Numpy"
      ]
    },
    {
      "cell_type": "code",
      "metadata": {
        "colab": {
          "base_uri": "https://localhost:8080/"
        },
        "id": "5GRiOOt5_Txv",
        "outputId": "b35f8bab-3955-4c04-d026-e777d0ecccde"
      },
      "source": [
        "import numpy as np    #pip install numpy when not saved\n",
        "a=np.array([1,2,3])   #creates numpy array\n",
        "print( type(a), a.shape, a[0], a[1],a[2])   #prints type of variable, size and every element\n",
        "a[0] = 5    #modifies the first element \n",
        "print(a)    #prints array"
      ],
      "execution_count": null,
      "outputs": [
        {
          "output_type": "stream",
          "text": [
            "<class 'numpy.ndarray'> (3,) 1 2 3\n",
            "[5 2 3]\n"
          ],
          "name": "stdout"
        }
      ]
    },
    {
      "cell_type": "code",
      "metadata": {
        "colab": {
          "base_uri": "https://localhost:8080/"
        },
        "id": "WsQieFz_PiHb",
        "outputId": "7797ad95-9fab-463e-f2cf-b5bf8c390278"
      },
      "source": [
        "#Creating nested arrays\n",
        "b= np.array([[1,2,3],[4,5,6]])    #two dimensional array\n",
        "print( b[0,0] )   #prints specific element of list\n",
        "\n",
        "#slicing\n",
        "a=np.array([[1,2,3,4], [5,6,7,8], [9,10,11,12]])    #creates two dimensional array\n",
        "b= a[:2, 1:3]     #takes four elements out of \"a\" array and produces a 2x2 mirror list\n",
        "print( b )"
      ],
      "execution_count": null,
      "outputs": [
        {
          "output_type": "stream",
          "text": [
            "1\n",
            "[[2 3]\n",
            " [6 7]]\n"
          ],
          "name": "stdout"
        }
      ]
    },
    {
      "cell_type": "code",
      "metadata": {
        "colab": {
          "base_uri": "https://localhost:8080/"
        },
        "id": "9AtWDFqsR1CR",
        "outputId": "5d2d516d-d891-4cd5-d421-5639915e3990"
      },
      "source": [
        "#Los slices son referencias al original\n",
        "b[0,0] = 77 #Value will be modified on a despite being \"written\" on list b\n",
        "print(a)"
      ],
      "execution_count": null,
      "outputs": [
        {
          "output_type": "stream",
          "text": [
            "[[ 1 77  3  4]\n",
            " [ 5  6  7  8]\n",
            " [ 9 10 11 12]]\n"
          ],
          "name": "stdout"
        }
      ]
    },
    {
      "cell_type": "code",
      "metadata": {
        "colab": {
          "base_uri": "https://localhost:8080/"
        },
        "id": "oam1uTL2SZuZ",
        "outputId": "0ce9044f-597b-40dd-cd30-c25ff71fa4b3"
      },
      "source": [
        "#Sin referenciar\n",
        "b=np.array(a[:2, 1:3])    #This creates an independent numpy array\n",
        "b[0,0]=77   #value will not be modified on a, only on b\n",
        "print(a)\n",
        "print(b)"
      ],
      "execution_count": null,
      "outputs": [
        {
          "output_type": "stream",
          "text": [
            "[[ 1  2  3  4]\n",
            " [ 5  6  7  8]\n",
            " [ 9 10 11 12]]\n",
            "[[77  3]\n",
            " [ 6  7]]\n"
          ],
          "name": "stdout"
        }
      ]
    },
    {
      "cell_type": "code",
      "metadata": {
        "colab": {
          "base_uri": "https://localhost:8080/"
        },
        "id": "8TKoZyLDSsPB",
        "outputId": "ad0e1578-ba99-4a01-c140-20bd7970604a"
      },
      "source": [
        "x= np.array([[1,2],[3,4]],dtype=np.float64)   #creates 2x2 array with specific variable type\n",
        "y= np.array([[5,6],[7,8]],dtype=np.float64)\n",
        "\n",
        "print(x+y)    #Both these operations are equals, arrays must be the same size\n",
        "print(np.add(x,y))"
      ],
      "execution_count": null,
      "outputs": [
        {
          "output_type": "stream",
          "text": [
            "[[ 6.  8.]\n",
            " [10. 12.]]\n",
            "[[ 6.  8.]\n",
            " [10. 12.]]\n"
          ],
          "name": "stdout"
        }
      ]
    },
    {
      "cell_type": "code",
      "metadata": {
        "colab": {
          "base_uri": "https://localhost:8080/"
        },
        "id": "UQdlBbPuT1Cl",
        "outputId": "2c13b0f3-683f-4194-aa6f-e51d14149415"
      },
      "source": [
        "print(x-y)    #Both operations substract between arrays as matrices\n",
        "print(np.subtract(x,y))\n",
        "\n"
      ],
      "execution_count": null,
      "outputs": [
        {
          "output_type": "stream",
          "text": [
            "[[-4. -4.]\n",
            " [-4. -4.]]\n",
            "[[-4. -4.]\n",
            " [-4. -4.]]\n",
            "[[ 5. 12.]\n",
            " [21. 32.]]\n",
            "[[-4. -4.]\n",
            " [-4. -4.]]\n",
            "[[0.2        0.33333333]\n",
            " [0.42857143 0.5       ]]\n",
            "[[0.2        0.33333333]\n",
            " [0.42857143 0.5       ]]\n",
            "[[1.         1.41421356]\n",
            " [1.73205081 2.        ]]\n"
          ],
          "name": "stdout"
        }
      ]
    },
    {
      "cell_type": "code",
      "metadata": {
        "colab": {
          "base_uri": "https://localhost:8080/"
        },
        "id": "UDQAOk65UVky",
        "outputId": "cc4df01b-1604-4641-f176-f25f01616534"
      },
      "source": [
        "print(x*y)    #both return the multiplication between arrays\n",
        "print(np.multiply(x,y))\n",
        "\n"
      ],
      "execution_count": null,
      "outputs": [
        {
          "output_type": "stream",
          "text": [
            "[[ 5. 12.]\n",
            " [21. 32.]]\n",
            "[[-4. -4.]\n",
            " [-4. -4.]]\n"
          ],
          "name": "stdout"
        }
      ]
    },
    {
      "cell_type": "code",
      "metadata": {
        "colab": {
          "base_uri": "https://localhost:8080/"
        },
        "id": "JD7xwtxMUebg",
        "outputId": "c5f7d7fe-4a87-49d5-ac0f-2c749170082a"
      },
      "source": [
        "print(x/y)      #Array division\n",
        "print( np.divide(x,y) )\n",
        "\n"
      ],
      "execution_count": null,
      "outputs": [
        {
          "output_type": "stream",
          "text": [
            "[[0.2        0.33333333]\n",
            " [0.42857143 0.5       ]]\n",
            "[[0.2        0.33333333]\n",
            " [0.42857143 0.5       ]]\n"
          ],
          "name": "stdout"
        }
      ]
    },
    {
      "cell_type": "code",
      "metadata": {
        "colab": {
          "base_uri": "https://localhost:8080/"
        },
        "id": "00i5sKYKUgNA",
        "outputId": "895babff-ba97-4959-c0ee-9b9e8b9ea589"
      },
      "source": [
        "print(np.sqrt(x))"
      ],
      "execution_count": null,
      "outputs": [
        {
          "output_type": "stream",
          "text": [
            "[[1.         1.41421356]\n",
            " [1.73205081 2.        ]]\n"
          ],
          "name": "stdout"
        }
      ]
    },
    {
      "cell_type": "code",
      "metadata": {
        "colab": {
          "base_uri": "https://localhost:8080/"
        },
        "id": "4LQwwGAyUg0Y",
        "outputId": "c6830da2-d7d5-4535-cca5-a88a256a5a07"
      },
      "source": [
        "#Matrix products (dot products)\n",
        "print(x@y)\n",
        "print(x.dot(y))\n",
        "print(np.dot(x,y))"
      ],
      "execution_count": null,
      "outputs": [
        {
          "output_type": "stream",
          "text": [
            "[[19. 22.]\n",
            " [43. 50.]]\n",
            "[[19. 22.]\n",
            " [43. 50.]]\n",
            "[[19. 22.]\n",
            " [43. 50.]]\n"
          ],
          "name": "stdout"
        }
      ]
    },
    {
      "cell_type": "code",
      "metadata": {
        "id": "Q43flj0vVrDw"
      },
      "source": [
        "x=np.array( [ [1,2], [3,4] ] )\n",
        "\n",
        "print(np.sum(x))    #sumas de todos los elementos\n",
        "print( np.sum())"
      ],
      "execution_count": null,
      "outputs": []
    },
    {
      "cell_type": "markdown",
      "metadata": {
        "id": "pTMl77xwXIfe"
      },
      "source": [
        "###Matplotlib\n"
      ]
    },
    {
      "cell_type": "code",
      "metadata": {
        "colab": {
          "base_uri": "https://localhost:8080/",
          "height": 296
        },
        "id": "z8b0xv2bXLge",
        "outputId": "f962321c-8579-4932-8de6-f9520e6520c2"
      },
      "source": [
        "import matplotlib.pyplot as plt\n",
        "import numpy as np\n",
        "%matplotlib inline    \n",
        "#Modifica opciones en este caso muestra la grafica\n",
        "\n",
        "x=np.arange(0, 3*np.pi, 0.1)    #Crea secuencia\n",
        "y_sin=np.sin(x)\n",
        "y_cos= np.cos(x)\n",
        "\n",
        "\n",
        "plt.plot(x,y_sin)   #plots first function\n",
        "plt.plot(x,y_cos)   #plots second function on same graph\n",
        "plt.xlabel('x axis label')\n",
        "plt.xlabel('y axis label')"
      ],
      "execution_count": null,
      "outputs": [
        {
          "output_type": "execute_result",
          "data": {
            "text/plain": [
              "Text(0.5, 0, 'y axis label')"
            ]
          },
          "metadata": {},
          "execution_count": 5
        },
        {
          "output_type": "display_data",
          "data": {
            "image/png": "[encoded data removed]",
            "text/plain": [
              "<Figure size 432x288 with 1 Axes>"
            ]
          },
          "metadata": {
            "needs_background": "light"
          }
        }
      ]
    },
    {
      "cell_type": "code",
      "metadata": {
        "colab": {
          "base_uri": "https://localhost:8080/",
          "height": 298
        },
        "id": "xmSaNC09XnEf",
        "outputId": "f8811fbf-ba15-4a9a-c15f-844416795400"
      },
      "source": [
        "plt.subplot(2,1,1)    #cuantas, linea, columna, linea\n",
        "plt.plot(x, y_sin)    #plots first function\n",
        "plt.title('Sine')\n",
        "\n",
        "plt.subplot(2,1,2)    #plots second function below the first\n",
        "plt.plot(x, y_cos)\n",
        "plt.title( 'Cosine')\n",
        "\n",
        "plt.show()    #shows graphs"
      ],
      "execution_count": null,
      "outputs": [
        {
          "output_type": "execute_result",
          "data": {
            "text/plain": [
              "Text(0.5, 1.0, 'Cosine')"
            ]
          },
          "metadata": {},
          "execution_count": 18
        },
        {
          "output_type": "display_data",
          "data": {
            "image/png": "[encoded data removed]",
            "text/plain": [
              "<Figure size 432x288 with 2 Axes>"
            ]
          },
          "metadata": {
            "needs_background": "light"
          }
        }
      ]
    },
    {
      "cell_type": "markdown",
      "metadata": {
        "id": "CD2mrrORc9ps"
      },
      "source": [
        "###Using pandas"
      ]
    },
    {
      "cell_type": "code",
      "metadata": {
        "id": "EhsGwu3RbpUM",
        "colab": {
          "base_uri": "https://localhost:8080/"
        },
        "outputId": "d2c0368a-089d-4ff3-9146-233bb29b5896"
      },
      "source": [
        "df = {'Nombres': ['Sofia', 'Marlon', 'Samuel', 'Bruno', 'Javier', 'Diego', 'Xochitl'], \\\n",
        "      'Horoscopos': ['Geminis', 'Cancer', 'Tauro', 'Libra', 'Capricornio', 'Sagitario', 'Cancer'], \\\n",
        "      'Edades': ['19' '20', '19', '19', '21', '19', '20']}    #creates a dictionary but can be converted to data frame\n",
        "type(df)"
      ],
      "execution_count": null,
      "outputs": [
        {
          "output_type": "execute_result",
          "data": {
            "text/plain": [
              "dict"
            ]
          },
          "metadata": {},
          "execution_count": 32
        }
      ]
    },
    {
      "cell_type": "code",
      "metadata": {
        "colab": {
          "base_uri": "https://localhost:8080/"
        },
        "id": "vaGyDVZ-ezmd",
        "outputId": "3b12d377-57a8-4449-b099-7427e236488c"
      },
      "source": [
        "import pandas as pd\n",
        "\n",
        "df = pd.DataFrame({'Nombres': ['Sofia', 'Marlon', 'Samuel', 'Bruno', 'Javier', 'Diego', 'Xochitl'], \\\n",
        "      'Horoscopos': ['Geminis', 'Cancer', 'Tauro', 'Libra', 'Capricornio', 'Sagitario', 'Cancer'], \\\n",
        "      'Edades': ['19', '20', '19', '19', '21', '19', '20']} )     #conversion to data frame with pandas\n",
        "type(df)\n",
        "print(df) \n",
        "\n",
        "#np.nan marca valores faltantes"
      ],
      "execution_count": null,
      "outputs": [
        {
          "output_type": "stream",
          "text": [
            "   Nombres   Horoscopos Edades\n",
            "0    Sofia      Geminis     19\n",
            "1   Marlon       Cancer     20\n",
            "2   Samuel        Tauro     19\n",
            "3    Bruno        Libra     19\n",
            "4   Javier  Capricornio     21\n",
            "5    Diego    Sagitario     19\n",
            "6  Xochitl       Cancer     20\n"
          ],
          "name": "stdout"
        }
      ]
    },
    {
      "cell_type": "code",
      "metadata": {
        "colab": {
          "base_uri": "https://localhost:8080/"
        },
        "id": "mKZawaE7e9Lf",
        "outputId": "02265e8f-69f0-4e94-e275-d3c0275814be"
      },
      "source": [
        "#Functions\n",
        "df=df.set_index('Nombres')  #Indices will be overwriten as the names\n",
        "df.info()   \n",
        "type(df.Edades)   #gives back the variable type of a certain characteristic\n",
        "df.Edades = df.Edades.apply(lambda x:int(x))    #will convert each element of Edades to an integer using lamda function\n",
        "\n",
        "df.Edades.mean()      #returns the mean of characteristic"
      ],
      "execution_count": null,
      "outputs": [
        {
          "output_type": "stream",
          "text": [
            "<class 'pandas.core.frame.DataFrame'>\n",
            "Index: 7 entries, Sofia to Xochitl\n",
            "Data columns (total 2 columns):\n",
            " #   Column      Non-Null Count  Dtype \n",
            "---  ------      --------------  ----- \n",
            " 0   Horoscopos  7 non-null      object\n",
            " 1   Edades      7 non-null      object\n",
            "dtypes: object(2)\n",
            "memory usage: 168.0+ bytes\n"
          ],
          "name": "stdout"
        },
        {
          "output_type": "execute_result",
          "data": {
            "text/plain": [
              "19.571428571428573"
            ]
          },
          "metadata": {},
          "execution_count": 34
        }
      ]
    },
    {
      "cell_type": "code",
      "metadata": {
        "colab": {
          "base_uri": "https://localhost:8080/",
          "height": 282
        },
        "id": "lJGMqqKkg22f",
        "outputId": "af111a04-ae8c-4e09-99c3-c7c8532ad723"
      },
      "source": [
        "df.Edades.hist()    #histograms can also be created"
      ],
      "execution_count": null,
      "outputs": [
        {
          "output_type": "execute_result",
          "data": {
            "text/plain": [
              "<matplotlib.axes._subplots.AxesSubplot at 0x7f66bd9ed3d0>"
            ]
          },
          "metadata": {},
          "execution_count": 11
        },
        {
          "output_type": "display_data",
          "data": {
            "image/png": "[encoded data removed]",
            "text/plain": [
              "<Figure size 432x288 with 1 Axes>"
            ]
          },
          "metadata": {
            "needs_background": "light"
          }
        }
      ]
    },
    {
      "cell_type": "code",
      "metadata": {
        "id": "ayRLKS4vht4g"
      },
      "source": [
        "#Añadir\n",
        "df['Animal Fav']=['perro', 'gato', 'delfin', 'perro', 'serpiente', 'axolotl', 'pulpo']    #new characteristic added for each observation\n"
      ],
      "execution_count": null,
      "outputs": []
    },
    {
      "cell_type": "code",
      "metadata": {
        "id": "TQRTKJP5l-YW"
      },
      "source": [
        "df['Animal fav']= 'gato'    #assigns the same value of characteristic to all observation\n",
        "df"
      ],
      "execution_count": null,
      "outputs": []
    },
    {
      "cell_type": "code",
      "metadata": {
        "colab": {
          "base_uri": "https://localhost:8080/",
          "height": 300
        },
        "id": "pdkXFiAujYUi",
        "outputId": "89109233-8a0e-439e-820a-1c4ad3e4c36b"
      },
      "source": [
        "df.loc['Sofia', 'Animal fav'] = 'perro'   #locates Sofia and characteristic Animal fav to modify the value with given argument\n",
        "df.iloc[2,3]= 'delfin'    #the indexes can also be used to locate the particular observation\n",
        "df"
      ],
      "execution_count": null,
      "outputs": [
        {
          "output_type": "execute_result",
          "data": {
            "text/html": [
              "<div>\n",
              "<style scoped>\n",
              "    .dataframe tbody tr th:only-of-type {\n",
              "        vertical-align: middle;\n",
              "    }\n",
              "\n",
              "    .dataframe tbody tr th {\n",
              "        vertical-align: top;\n",
              "    }\n",
              "\n",
              "    .dataframe thead th {\n",
              "        text-align: right;\n",
              "    }\n",
              "</style>\n",
              "<table border=\"1\" class=\"dataframe\">\n",
              "  <thead>\n",
              "    <tr style=\"text-align: right;\">\n",
              "      <th></th>\n",
              "      <th>Horoscopos</th>\n",
              "      <th>Edades</th>\n",
              "      <th>Animal Fav</th>\n",
              "      <th>Animal fav</th>\n",
              "    </tr>\n",
              "    <tr>\n",
              "      <th>Nombres</th>\n",
              "      <th></th>\n",
              "      <th></th>\n",
              "      <th></th>\n",
              "      <th></th>\n",
              "    </tr>\n",
              "  </thead>\n",
              "  <tbody>\n",
              "    <tr>\n",
              "      <th>Sofia</th>\n",
              "      <td>Geminis</td>\n",
              "      <td>19</td>\n",
              "      <td>perro</td>\n",
              "      <td>perro</td>\n",
              "    </tr>\n",
              "    <tr>\n",
              "      <th>Marlon</th>\n",
              "      <td>Cancer</td>\n",
              "      <td>20</td>\n",
              "      <td>gato</td>\n",
              "      <td>gato</td>\n",
              "    </tr>\n",
              "    <tr>\n",
              "      <th>Samuel</th>\n",
              "      <td>Tauro</td>\n",
              "      <td>19</td>\n",
              "      <td>delfin</td>\n",
              "      <td>delfin</td>\n",
              "    </tr>\n",
              "    <tr>\n",
              "      <th>Bruno</th>\n",
              "      <td>Libra</td>\n",
              "      <td>19</td>\n",
              "      <td>perro</td>\n",
              "      <td>gato</td>\n",
              "    </tr>\n",
              "    <tr>\n",
              "      <th>Javier</th>\n",
              "      <td>Capricornio</td>\n",
              "      <td>21</td>\n",
              "      <td>serpiente</td>\n",
              "      <td>gato</td>\n",
              "    </tr>\n",
              "    <tr>\n",
              "      <th>Diego</th>\n",
              "      <td>Sagitario</td>\n",
              "      <td>19</td>\n",
              "      <td>axolotl</td>\n",
              "      <td>gato</td>\n",
              "    </tr>\n",
              "    <tr>\n",
              "      <th>Xochitl</th>\n",
              "      <td>Cancer</td>\n",
              "      <td>20</td>\n",
              "      <td>pulpo</td>\n",
              "      <td>gato</td>\n",
              "    </tr>\n",
              "  </tbody>\n",
              "</table>\n",
              "</div>"
            ],
            "text/plain": [
              "          Horoscopos  Edades Animal Fav Animal fav\n",
              "Nombres                                           \n",
              "Sofia        Geminis      19      perro      perro\n",
              "Marlon        Cancer      20       gato       gato\n",
              "Samuel         Tauro      19     delfin     delfin\n",
              "Bruno          Libra      19      perro       gato\n",
              "Javier   Capricornio      21  serpiente       gato\n",
              "Diego      Sagitario      19    axolotl       gato\n",
              "Xochitl       Cancer      20      pulpo       gato"
            ]
          },
          "metadata": {},
          "execution_count": 24
        }
      ]
    },
    {
      "cell_type": "code",
      "metadata": {
        "colab": {
          "base_uri": "https://localhost:8080/",
          "height": 332
        },
        "id": "BnDpfarYk0Tj",
        "outputId": "6bb50def-455e-46d3-a5a7-b1ac1fafb2a5"
      },
      "source": [
        "df.loc['Cancer', 'cancer'] = 'perro'\n",
        "df"
      ],
      "execution_count": null,
      "outputs": [
        {
          "output_type": "execute_result",
          "data": {
            "text/html": [
              "<div>\n",
              "<style scoped>\n",
              "    .dataframe tbody tr th:only-of-type {\n",
              "        vertical-align: middle;\n",
              "    }\n",
              "\n",
              "    .dataframe tbody tr th {\n",
              "        vertical-align: top;\n",
              "    }\n",
              "\n",
              "    .dataframe thead th {\n",
              "        text-align: right;\n",
              "    }\n",
              "</style>\n",
              "<table border=\"1\" class=\"dataframe\">\n",
              "  <thead>\n",
              "    <tr style=\"text-align: right;\">\n",
              "      <th></th>\n",
              "      <th>Horoscopos</th>\n",
              "      <th>Edades</th>\n",
              "      <th>Animal Fav</th>\n",
              "      <th>Animal fav</th>\n",
              "      <th>cancer</th>\n",
              "    </tr>\n",
              "    <tr>\n",
              "      <th>Nombres</th>\n",
              "      <th></th>\n",
              "      <th></th>\n",
              "      <th></th>\n",
              "      <th></th>\n",
              "      <th></th>\n",
              "    </tr>\n",
              "  </thead>\n",
              "  <tbody>\n",
              "    <tr>\n",
              "      <th>Sofia</th>\n",
              "      <td>Geminis</td>\n",
              "      <td>19.0</td>\n",
              "      <td>perro</td>\n",
              "      <td>perro</td>\n",
              "      <td>NaN</td>\n",
              "    </tr>\n",
              "    <tr>\n",
              "      <th>Marlon</th>\n",
              "      <td>Cancer</td>\n",
              "      <td>20.0</td>\n",
              "      <td>gato</td>\n",
              "      <td>gato</td>\n",
              "      <td>NaN</td>\n",
              "    </tr>\n",
              "    <tr>\n",
              "      <th>Samuel</th>\n",
              "      <td>Tauro</td>\n",
              "      <td>19.0</td>\n",
              "      <td>delfin</td>\n",
              "      <td>delfin</td>\n",
              "      <td>NaN</td>\n",
              "    </tr>\n",
              "    <tr>\n",
              "      <th>Bruno</th>\n",
              "      <td>Libra</td>\n",
              "      <td>19.0</td>\n",
              "      <td>perro</td>\n",
              "      <td>gato</td>\n",
              "      <td>NaN</td>\n",
              "    </tr>\n",
              "    <tr>\n",
              "      <th>Javier</th>\n",
              "      <td>Capricornio</td>\n",
              "      <td>21.0</td>\n",
              "      <td>serpiente</td>\n",
              "      <td>gato</td>\n",
              "      <td>NaN</td>\n",
              "    </tr>\n",
              "    <tr>\n",
              "      <th>Diego</th>\n",
              "      <td>Sagitario</td>\n",
              "      <td>19.0</td>\n",
              "      <td>axolotl</td>\n",
              "      <td>gato</td>\n",
              "      <td>NaN</td>\n",
              "    </tr>\n",
              "    <tr>\n",
              "      <th>Xochitl</th>\n",
              "      <td>Cancer</td>\n",
              "      <td>20.0</td>\n",
              "      <td>pulpo</td>\n",
              "      <td>gato</td>\n",
              "      <td>NaN</td>\n",
              "    </tr>\n",
              "    <tr>\n",
              "      <th>Cancer</th>\n",
              "      <td>NaN</td>\n",
              "      <td>NaN</td>\n",
              "      <td>NaN</td>\n",
              "      <td>NaN</td>\n",
              "      <td>perro</td>\n",
              "    </tr>\n",
              "  </tbody>\n",
              "</table>\n",
              "</div>"
            ],
            "text/plain": [
              "          Horoscopos  Edades Animal Fav Animal fav cancer\n",
              "Nombres                                                  \n",
              "Sofia        Geminis    19.0      perro      perro    NaN\n",
              "Marlon        Cancer    20.0       gato       gato    NaN\n",
              "Samuel         Tauro    19.0     delfin     delfin    NaN\n",
              "Bruno          Libra    19.0      perro       gato    NaN\n",
              "Javier   Capricornio    21.0  serpiente       gato    NaN\n",
              "Diego      Sagitario    19.0    axolotl       gato    NaN\n",
              "Xochitl       Cancer    20.0      pulpo       gato    NaN\n",
              "Cancer           NaN     NaN        NaN        NaN  perro"
            ]
          },
          "metadata": {},
          "execution_count": 26
        }
      ]
    },
    {
      "cell_type": "code",
      "metadata": {
        "colab": {
          "base_uri": "https://localhost:8080/",
          "height": 365
        },
        "id": "AE_HIADjicq3",
        "outputId": "357c7720-f06d-4b7d-bfaf-0d7a04fe2a82"
      },
      "source": [
        "# axis=1==columnas         axis=0==filas\n",
        "df=df.drop(axis=1, labels='cancer')     #drop will eliminate the whole column or line of a data frame\n",
        "df=df.drop(axis=1, labels='Animal fav')\n",
        "df"
      ],
      "execution_count": null,
      "outputs": [
        {
          "output_type": "error",
          "ename": "KeyError",
          "evalue": "ignored",
          "traceback": [
            "\u001b[0;31m---------------------------------------------------------------------------\u001b[0m",
            "\u001b[0;31mKeyError\u001b[0m                                  Traceback (most recent call last)",
            "\u001b[0;32m<ipython-input-28-c3d9af3e95ca>\u001b[0m in \u001b[0;36m<module>\u001b[0;34m()\u001b[0m\n\u001b[1;32m      1\u001b[0m \u001b[0;31m# axis=1==columnas         axis=0==filas\u001b[0m\u001b[0;34m\u001b[0m\u001b[0;34m\u001b[0m\u001b[0;34m\u001b[0m\u001b[0m\n\u001b[0;32m----> 2\u001b[0;31m \u001b[0mdf\u001b[0m\u001b[0;34m=\u001b[0m\u001b[0mdf\u001b[0m\u001b[0;34m.\u001b[0m\u001b[0mdrop\u001b[0m\u001b[0;34m(\u001b[0m\u001b[0maxis\u001b[0m\u001b[0;34m=\u001b[0m\u001b[0;36m1\u001b[0m\u001b[0;34m,\u001b[0m \u001b[0mlabels\u001b[0m\u001b[0;34m=\u001b[0m\u001b[0;34m'cancer'\u001b[0m\u001b[0;34m)\u001b[0m\u001b[0;34m\u001b[0m\u001b[0;34m\u001b[0m\u001b[0m\n\u001b[0m\u001b[1;32m      3\u001b[0m \u001b[0mdf\u001b[0m\u001b[0;34m=\u001b[0m\u001b[0mdf\u001b[0m\u001b[0;34m.\u001b[0m\u001b[0mdrop\u001b[0m\u001b[0;34m(\u001b[0m\u001b[0maxis\u001b[0m\u001b[0;34m=\u001b[0m\u001b[0;36m1\u001b[0m\u001b[0;34m,\u001b[0m \u001b[0mlabels\u001b[0m\u001b[0;34m=\u001b[0m\u001b[0;34m'Animal fav'\u001b[0m\u001b[0;34m)\u001b[0m\u001b[0;34m\u001b[0m\u001b[0;34m\u001b[0m\u001b[0m\n\u001b[1;32m      4\u001b[0m \u001b[0mdf\u001b[0m\u001b[0;34m\u001b[0m\u001b[0;34m\u001b[0m\u001b[0m\n",
            "\u001b[0;32m/usr/local/lib/python3.7/dist-packages/pandas/core/frame.py\u001b[0m in \u001b[0;36mdrop\u001b[0;34m(self, labels, axis, index, columns, level, inplace, errors)\u001b[0m\n\u001b[1;32m   4172\u001b[0m             \u001b[0mlevel\u001b[0m\u001b[0;34m=\u001b[0m\u001b[0mlevel\u001b[0m\u001b[0;34m,\u001b[0m\u001b[0;34m\u001b[0m\u001b[0;34m\u001b[0m\u001b[0m\n\u001b[1;32m   4173\u001b[0m             \u001b[0minplace\u001b[0m\u001b[0;34m=\u001b[0m\u001b[0minplace\u001b[0m\u001b[0;34m,\u001b[0m\u001b[0;34m\u001b[0m\u001b[0;34m\u001b[0m\u001b[0m\n\u001b[0;32m-> 4174\u001b[0;31m             \u001b[0merrors\u001b[0m\u001b[0;34m=\u001b[0m\u001b[0merrors\u001b[0m\u001b[0;34m,\u001b[0m\u001b[0;34m\u001b[0m\u001b[0;34m\u001b[0m\u001b[0m\n\u001b[0m\u001b[1;32m   4175\u001b[0m         )\n\u001b[1;32m   4176\u001b[0m \u001b[0;34m\u001b[0m\u001b[0m\n",
            "\u001b[0;32m/usr/local/lib/python3.7/dist-packages/pandas/core/generic.py\u001b[0m in \u001b[0;36mdrop\u001b[0;34m(self, labels, axis, index, columns, level, inplace, errors)\u001b[0m\n\u001b[1;32m   3887\u001b[0m         \u001b[0;32mfor\u001b[0m \u001b[0maxis\u001b[0m\u001b[0;34m,\u001b[0m \u001b[0mlabels\u001b[0m \u001b[0;32min\u001b[0m \u001b[0maxes\u001b[0m\u001b[0;34m.\u001b[0m\u001b[0mitems\u001b[0m\u001b[0;34m(\u001b[0m\u001b[0;34m)\u001b[0m\u001b[0;34m:\u001b[0m\u001b[0;34m\u001b[0m\u001b[0;34m\u001b[0m\u001b[0m\n\u001b[1;32m   3888\u001b[0m             \u001b[0;32mif\u001b[0m \u001b[0mlabels\u001b[0m \u001b[0;32mis\u001b[0m \u001b[0;32mnot\u001b[0m \u001b[0;32mNone\u001b[0m\u001b[0;34m:\u001b[0m\u001b[0;34m\u001b[0m\u001b[0;34m\u001b[0m\u001b[0m\n\u001b[0;32m-> 3889\u001b[0;31m                 \u001b[0mobj\u001b[0m \u001b[0;34m=\u001b[0m \u001b[0mobj\u001b[0m\u001b[0;34m.\u001b[0m\u001b[0m_drop_axis\u001b[0m\u001b[0;34m(\u001b[0m\u001b[0mlabels\u001b[0m\u001b[0;34m,\u001b[0m \u001b[0maxis\u001b[0m\u001b[0;34m,\u001b[0m \u001b[0mlevel\u001b[0m\u001b[0;34m=\u001b[0m\u001b[0mlevel\u001b[0m\u001b[0;34m,\u001b[0m \u001b[0merrors\u001b[0m\u001b[0;34m=\u001b[0m\u001b[0merrors\u001b[0m\u001b[0;34m)\u001b[0m\u001b[0;34m\u001b[0m\u001b[0;34m\u001b[0m\u001b[0m\n\u001b[0m\u001b[1;32m   3890\u001b[0m \u001b[0;34m\u001b[0m\u001b[0m\n\u001b[1;32m   3891\u001b[0m         \u001b[0;32mif\u001b[0m \u001b[0minplace\u001b[0m\u001b[0;34m:\u001b[0m\u001b[0;34m\u001b[0m\u001b[0;34m\u001b[0m\u001b[0m\n",
            "\u001b[0;32m/usr/local/lib/python3.7/dist-packages/pandas/core/generic.py\u001b[0m in \u001b[0;36m_drop_axis\u001b[0;34m(self, labels, axis, level, errors)\u001b[0m\n\u001b[1;32m   3921\u001b[0m                 \u001b[0mnew_axis\u001b[0m \u001b[0;34m=\u001b[0m \u001b[0maxis\u001b[0m\u001b[0;34m.\u001b[0m\u001b[0mdrop\u001b[0m\u001b[0;34m(\u001b[0m\u001b[0mlabels\u001b[0m\u001b[0;34m,\u001b[0m \u001b[0mlevel\u001b[0m\u001b[0;34m=\u001b[0m\u001b[0mlevel\u001b[0m\u001b[0;34m,\u001b[0m \u001b[0merrors\u001b[0m\u001b[0;34m=\u001b[0m\u001b[0merrors\u001b[0m\u001b[0;34m)\u001b[0m\u001b[0;34m\u001b[0m\u001b[0;34m\u001b[0m\u001b[0m\n\u001b[1;32m   3922\u001b[0m             \u001b[0;32melse\u001b[0m\u001b[0;34m:\u001b[0m\u001b[0;34m\u001b[0m\u001b[0;34m\u001b[0m\u001b[0m\n\u001b[0;32m-> 3923\u001b[0;31m                 \u001b[0mnew_axis\u001b[0m \u001b[0;34m=\u001b[0m \u001b[0maxis\u001b[0m\u001b[0;34m.\u001b[0m\u001b[0mdrop\u001b[0m\u001b[0;34m(\u001b[0m\u001b[0mlabels\u001b[0m\u001b[0;34m,\u001b[0m \u001b[0merrors\u001b[0m\u001b[0;34m=\u001b[0m\u001b[0merrors\u001b[0m\u001b[0;34m)\u001b[0m\u001b[0;34m\u001b[0m\u001b[0;34m\u001b[0m\u001b[0m\n\u001b[0m\u001b[1;32m   3924\u001b[0m             \u001b[0mresult\u001b[0m \u001b[0;34m=\u001b[0m \u001b[0mself\u001b[0m\u001b[0;34m.\u001b[0m\u001b[0mreindex\u001b[0m\u001b[0;34m(\u001b[0m\u001b[0;34m**\u001b[0m\u001b[0;34m{\u001b[0m\u001b[0maxis_name\u001b[0m\u001b[0;34m:\u001b[0m \u001b[0mnew_axis\u001b[0m\u001b[0;34m}\u001b[0m\u001b[0;34m)\u001b[0m\u001b[0;34m\u001b[0m\u001b[0;34m\u001b[0m\u001b[0m\n\u001b[1;32m   3925\u001b[0m \u001b[0;34m\u001b[0m\u001b[0m\n",
            "\u001b[0;32m/usr/local/lib/python3.7/dist-packages/pandas/core/indexes/base.py\u001b[0m in \u001b[0;36mdrop\u001b[0;34m(self, labels, errors)\u001b[0m\n\u001b[1;32m   5285\u001b[0m         \u001b[0;32mif\u001b[0m \u001b[0mmask\u001b[0m\u001b[0;34m.\u001b[0m\u001b[0many\u001b[0m\u001b[0;34m(\u001b[0m\u001b[0;34m)\u001b[0m\u001b[0;34m:\u001b[0m\u001b[0;34m\u001b[0m\u001b[0;34m\u001b[0m\u001b[0m\n\u001b[1;32m   5286\u001b[0m             \u001b[0;32mif\u001b[0m \u001b[0merrors\u001b[0m \u001b[0;34m!=\u001b[0m \u001b[0;34m\"ignore\"\u001b[0m\u001b[0;34m:\u001b[0m\u001b[0;34m\u001b[0m\u001b[0;34m\u001b[0m\u001b[0m\n\u001b[0;32m-> 5287\u001b[0;31m                 \u001b[0;32mraise\u001b[0m \u001b[0mKeyError\u001b[0m\u001b[0;34m(\u001b[0m\u001b[0;34mf\"{labels[mask]} not found in axis\"\u001b[0m\u001b[0;34m)\u001b[0m\u001b[0;34m\u001b[0m\u001b[0;34m\u001b[0m\u001b[0m\n\u001b[0m\u001b[1;32m   5288\u001b[0m             \u001b[0mindexer\u001b[0m \u001b[0;34m=\u001b[0m \u001b[0mindexer\u001b[0m\u001b[0;34m[\u001b[0m\u001b[0;34m~\u001b[0m\u001b[0mmask\u001b[0m\u001b[0;34m]\u001b[0m\u001b[0;34m\u001b[0m\u001b[0;34m\u001b[0m\u001b[0m\n\u001b[1;32m   5289\u001b[0m         \u001b[0;32mreturn\u001b[0m \u001b[0mself\u001b[0m\u001b[0;34m.\u001b[0m\u001b[0mdelete\u001b[0m\u001b[0;34m(\u001b[0m\u001b[0mindexer\u001b[0m\u001b[0;34m)\u001b[0m\u001b[0;34m\u001b[0m\u001b[0;34m\u001b[0m\u001b[0m\n",
            "\u001b[0;31mKeyError\u001b[0m: \"['cancer'] not found in axis\""
          ]
        }
      ]
    },
    {
      "cell_type": "code",
      "metadata": {
        "colab": {
          "base_uri": "https://localhost:8080/",
          "height": 300
        },
        "id": "GEMSUhyyjD_a",
        "outputId": "bc74f54d-14d4-438d-b902-f9ae56a12012"
      },
      "source": [
        "df\n",
        "df=df.drop(axis=0, labels='Cancer')\n",
        "df"
      ],
      "execution_count": null,
      "outputs": [
        {
          "output_type": "execute_result",
          "data": {
            "text/html": [
              "<div>\n",
              "<style scoped>\n",
              "    .dataframe tbody tr th:only-of-type {\n",
              "        vertical-align: middle;\n",
              "    }\n",
              "\n",
              "    .dataframe tbody tr th {\n",
              "        vertical-align: top;\n",
              "    }\n",
              "\n",
              "    .dataframe thead th {\n",
              "        text-align: right;\n",
              "    }\n",
              "</style>\n",
              "<table border=\"1\" class=\"dataframe\">\n",
              "  <thead>\n",
              "    <tr style=\"text-align: right;\">\n",
              "      <th></th>\n",
              "      <th>Horoscopos</th>\n",
              "      <th>Edades</th>\n",
              "      <th>Animal Fav</th>\n",
              "    </tr>\n",
              "    <tr>\n",
              "      <th>Nombres</th>\n",
              "      <th></th>\n",
              "      <th></th>\n",
              "      <th></th>\n",
              "    </tr>\n",
              "  </thead>\n",
              "  <tbody>\n",
              "    <tr>\n",
              "      <th>Sofia</th>\n",
              "      <td>Geminis</td>\n",
              "      <td>19.0</td>\n",
              "      <td>perro</td>\n",
              "    </tr>\n",
              "    <tr>\n",
              "      <th>Marlon</th>\n",
              "      <td>Cancer</td>\n",
              "      <td>20.0</td>\n",
              "      <td>gato</td>\n",
              "    </tr>\n",
              "    <tr>\n",
              "      <th>Samuel</th>\n",
              "      <td>Tauro</td>\n",
              "      <td>19.0</td>\n",
              "      <td>delfin</td>\n",
              "    </tr>\n",
              "    <tr>\n",
              "      <th>Bruno</th>\n",
              "      <td>Libra</td>\n",
              "      <td>19.0</td>\n",
              "      <td>perro</td>\n",
              "    </tr>\n",
              "    <tr>\n",
              "      <th>Javier</th>\n",
              "      <td>Capricornio</td>\n",
              "      <td>21.0</td>\n",
              "      <td>serpiente</td>\n",
              "    </tr>\n",
              "    <tr>\n",
              "      <th>Diego</th>\n",
              "      <td>Sagitario</td>\n",
              "      <td>19.0</td>\n",
              "      <td>axolotl</td>\n",
              "    </tr>\n",
              "    <tr>\n",
              "      <th>Xochitl</th>\n",
              "      <td>Cancer</td>\n",
              "      <td>20.0</td>\n",
              "      <td>pulpo</td>\n",
              "    </tr>\n",
              "  </tbody>\n",
              "</table>\n",
              "</div>"
            ],
            "text/plain": [
              "          Horoscopos  Edades Animal Fav\n",
              "Nombres                                \n",
              "Sofia        Geminis    19.0      perro\n",
              "Marlon        Cancer    20.0       gato\n",
              "Samuel         Tauro    19.0     delfin\n",
              "Bruno          Libra    19.0      perro\n",
              "Javier   Capricornio    21.0  serpiente\n",
              "Diego      Sagitario    19.0    axolotl\n",
              "Xochitl       Cancer    20.0      pulpo"
            ]
          },
          "metadata": {},
          "execution_count": 30
        }
      ]
    },
    {
      "cell_type": "code",
      "metadata": {
        "id": "029BvpWClaz4"
      },
      "source": [
        "df.to_csv('horoscopo_grupo.csv', index=None)    #Saves a data frame as csv document\n"
      ],
      "execution_count": null,
      "outputs": []
    },
    {
      "cell_type": "code",
      "metadata": {
        "colab": {
          "base_uri": "https://localhost:8080/",
          "height": 132
        },
        "id": "LUBmZF-ymF2q",
        "outputId": "7c8b39b2-154d-47ec-e52b-f165037413c7"
      },
      "source": [
        "#You can also re-read the elements of a csv document and turn it back to a df\n",
        "horoscopos = pd.read_csv('/content/horoscopo_grupo.csv', delimiter='\\t', index_col= ='Nombres')   \n"
      ],
      "execution_count": null,
      "outputs": [
        {
          "output_type": "error",
          "ename": "SyntaxError",
          "evalue": "ignored",
          "traceback": [
            "\u001b[0;36m  File \u001b[0;32m\"<ipython-input-56-d74669e28a60>\"\u001b[0;36m, line \u001b[0;32m1\u001b[0m\n\u001b[0;31m    horoscopos = pd.read_csv('/content/horoscopo_grupo.csv', delimiter='\\t', index_col= =$'Nombres')\u001b[0m\n\u001b[0m                                                                                        ^\u001b[0m\n\u001b[0;31mSyntaxError\u001b[0m\u001b[0;31m:\u001b[0m invalid syntax\n"
          ]
        }
      ]
    },
    {
      "cell_type": "code",
      "metadata": {
        "id": "Q-VGtVeBnE48"
      },
      "source": [
        ""
      ],
      "execution_count": null,
      "outputs": []
    }
  ]
}